{
 "cells": [
  {
   "cell_type": "code",
   "execution_count": 6,
   "id": "00b88531-2b12-4b35-8298-53a39f36f67f",
   "metadata": {},
   "outputs": [
    {
     "name": "stdout",
     "output_type": "stream",
     "text": [
      "Alpha: 8.750, State: |000⟩, Probabilities: [1. 0. 0. 0. 0. 0. 0. 0.]\n",
      "Alpha: 7.500, State: |001⟩, Probabilities: [3.74939946e-33 1.00000000e+00 0.00000000e+00 0.00000000e+00\n",
      " 0.00000000e+00 0.00000000e+00 0.00000000e+00 0.00000000e+00]\n",
      "Alpha: 5.000, State: |010⟩, Probabilities: [1.40579963e-65 3.74939946e-33 1.00000000e+00 3.74939946e-33\n",
      " 0.00000000e+00 0.00000000e+00 0.00000000e+00 0.00000000e+00]\n",
      "Alpha: 6.250, State: |011⟩, Probabilities: [3.74939946e-33 0.00000000e+00 0.00000000e+00 1.00000000e+00\n",
      " 0.00000000e+00 0.00000000e+00 0.00000000e+00 0.00000000e+00]\n",
      "Alpha: 1.250, State: |100⟩, Probabilities: [1.40579963e-65 0.00000000e+00 0.00000000e+00 3.74939946e-33\n",
      " 1.00000000e+00 0.00000000e+00 0.00000000e+00 3.74939946e-33]\n",
      "Alpha: 0.000, State: |101⟩, Probabilities: [5.27090436e-98 1.40579963e-65 3.74939946e-33 1.40579963e-65\n",
      " 3.74939946e-33 1.00000000e+00 3.74939946e-33 1.40579963e-65]\n",
      "Alpha: 2.500, State: |110⟩, Probabilities: [1.40579963e-65 3.74939946e-33 0.00000000e+00 0.00000000e+00\n",
      " 0.00000000e+00 0.00000000e+00 1.00000000e+00 3.74939946e-33]\n",
      "Alpha: 3.750, State: |111⟩, Probabilities: [3.74939946e-33 0.00000000e+00 0.00000000e+00 0.00000000e+00\n",
      " 0.00000000e+00 0.00000000e+00 0.00000000e+00 1.00000000e+00]\n"
     ]
    }
   ],
   "source": [
    "import json\n",
    "import pennylane as qml\n",
    "import pennylane.numpy as np\n",
    "\n",
    "dev = qml.device(\"default.qubit\", wires=3)\n",
    "\n",
    "@qml.qnode(dev)\n",
    "def model(alpha):\n",
    "    x = alpha / 10\n",
    "    \n",
    "    # Adjust initial condition to avoid superposition at alpha=0\n",
    "    theta_0 = np.pi * np.heaviside(np.sin(2 * np.pi * x + np.pi/4), 0.5)\n",
    "    theta_1 = np.pi * np.heaviside(np.sin(4 * np.pi * x + np.pi/4), 0.5)\n",
    "    theta_2 = np.pi * np.heaviside(np.sin(8 * np.pi * x + np.pi/4), 0.5)\n",
    "    \n",
    "    qml.RY(theta_0, wires=0)\n",
    "    qml.RY(theta_1, wires=1)\n",
    "    qml.RY(theta_2, wires=2)\n",
    "    \n",
    "    qml.CNOT(wires=[0, 1])\n",
    "    qml.CNOT(wires=[1, 2])\n",
    "    \n",
    "    return qml.probs(wires=[0, 1, 2])\n",
    "\n",
    "def generate_coefficients():\n",
    "    # Map each index to the position where its state currently appears\n",
    "    state_map = {\n",
    "        0: 8.750,  # |000⟩ appears at 8.750\n",
    "        1: 7.500,  # |001⟩ appears at 7.500\n",
    "        2: 5.000,  # |010⟩ appears at 5.000\n",
    "        3: 6.250,  # |011⟩ appears at 6.250\n",
    "        4: 1.250,  # |100⟩ appears at 1.250\n",
    "        5: 0.000,  # |101⟩ appears at 0.000\n",
    "        6: 2.500,  # |110⟩ appears at 2.500\n",
    "        7: 3.750   # |111⟩ appears at 3.750\n",
    "    }\n",
    "    return [state_map[i] for i in range(8)]\n",
    "    \n",
    "def test_solution():\n",
    "    coefs = generate_coefficients()\n",
    "    outputs = [model(alpha) for alpha in coefs]\n",
    "\n",
    "    for i, probs in enumerate(outputs):\n",
    "        # Find the index of the maximum probability\n",
    "        state_index = np.argmax(probs)\n",
    "        # Convert index to binary representation\n",
    "        state_binary = format(state_index, '03b')\n",
    "        print(f\"Alpha: {coefs[i]:.3f}, State: |{state_binary}⟩, Probabilities: {probs}\")\n",
    "\n",
    "test_solution()\n"
   ]
  },
  {
   "cell_type": "code",
   "execution_count": null,
   "id": "2cc1f66e-57bc-444f-90c5-14095ed342b0",
   "metadata": {},
   "outputs": [],
   "source": []
  }
 ],
 "metadata": {
  "kernelspec": {
   "display_name": "Python 3 (ipykernel)",
   "language": "python",
   "name": "python3"
  },
  "language_info": {
   "codemirror_mode": {
    "name": "ipython",
    "version": 3
   },
   "file_extension": ".py",
   "mimetype": "text/x-python",
   "name": "python",
   "nbconvert_exporter": "python",
   "pygments_lexer": "ipython3",
   "version": "3.12.3"
  }
 },
 "nbformat": 4,
 "nbformat_minor": 5
}
